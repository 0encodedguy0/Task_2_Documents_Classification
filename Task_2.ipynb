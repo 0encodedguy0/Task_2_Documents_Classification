{
 "cells": [
  {
   "cell_type": "code",
   "execution_count": 1,
   "metadata": {},
   "outputs": [],
   "source": [
    "import numpy as np\n",
    "import scipy as sp\n",
    "import matplotlib.pyplot as plt\n",
    "import seaborn as sns\n",
    "\n",
    "%matplotlib inline"
   ]
  },
  {
   "cell_type": "markdown",
   "metadata": {},
   "source": [
    "# 2. Работа с массивами NumPy"
   ]
  },
  {
   "cell_type": "markdown",
   "metadata": {},
   "source": [
    "**N. Все упражнения ниже нужно делать без использования циклов Python**\n",
    "\n",
    "**2.1.** Cоздать вектор\n",
    "\n",
    "$$(2, \\frac{2^2}{2}, \\ldots, \\frac{2^{20}}{20})$$\n",
    "\n",
    "Можно использовать функции [np.arange()](http://docs.scipy.org/doc/numpy/reference/generated/numpy.arange.html), [np.ones()](http://docs.scipy.org/doc/numpy/reference/generated/numpy.ones.html)"
   ]
  },
  {
   "cell_type": "code",
   "execution_count": 2,
   "metadata": {},
   "outputs": [
    {
     "name": "stdout",
     "output_type": "stream",
     "text": [
      "[2.00000000e+00 2.00000000e+00 2.66666667e+00 4.00000000e+00\n",
      " 6.40000000e+00 1.06666667e+01 1.82857143e+01 3.20000000e+01\n",
      " 5.68888889e+01 1.02400000e+02 1.86181818e+02 3.41333333e+02\n",
      " 6.30153846e+02 1.17028571e+03 2.18453333e+03 4.09600000e+03\n",
      " 7.71011765e+03 1.45635556e+04 2.75941053e+04 5.24288000e+04]\n"
     ]
    }
   ],
   "source": [
    "arr = np.arange(1, 21)\n",
    "vector = 2 ** arr / arr\n",
    "print(vector)"
   ]
  },
  {
   "cell_type": "markdown",
   "metadata": {},
   "source": [
    "**2.2.** Посчитать:\n",
    "\n",
    "$$\\sum\\limits_{i=0}^{5}{0.1^{3i}0.2^{4i}}$$\n"
   ]
  },
  {
   "cell_type": "code",
   "execution_count": 3,
   "metadata": {},
   "outputs": [
    {
     "name": "stdout",
     "output_type": "stream",
     "text": [
      "1.00000160000256\n"
     ]
    }
   ],
   "source": [
    "i = np.arange(0, 6)\n",
    "vector = 0.1 ** (3 * i) * 0.2 **(4 * i)\n",
    "print(vector.sum())"
   ]
  },
  {
   "cell_type": "markdown",
   "metadata": {},
   "source": [
    "**2.3.** Создать нулевую матрицe $8 \\times 8$, и заполнить её единицами в шахматном порядке."
   ]
  },
  {
   "cell_type": "code",
   "execution_count": 4,
   "metadata": {},
   "outputs": [
    {
     "name": "stdout",
     "output_type": "stream",
     "text": [
      "[[1. 0. 1. 0. 1. 0. 1. 0.]\n",
      " [0. 1. 0. 1. 0. 1. 0. 1.]\n",
      " [1. 0. 1. 0. 1. 0. 1. 0.]\n",
      " [0. 1. 0. 1. 0. 1. 0. 1.]\n",
      " [1. 0. 1. 0. 1. 0. 1. 0.]\n",
      " [0. 1. 0. 1. 0. 1. 0. 1.]\n",
      " [1. 0. 1. 0. 1. 0. 1. 0.]\n",
      " [0. 1. 0. 1. 0. 1. 0. 1.]]\n"
     ]
    }
   ],
   "source": [
    "matrix = np.ones((8, 8))\n",
    "matrix[1::2,::2] = 0\n",
    "matrix[::2,1::2] = 0\n",
    "print(matrix)"
   ]
  },
  {
   "cell_type": "markdown",
   "metadata": {},
   "source": [
    "**2.4.** Есть 5 точек в декартовой системе координат (в виде матрицы $X$ размерностью $5 \\times 2$), сконвертируйте эти точки в полярную систему координат."
   ]
  },
  {
   "cell_type": "code",
   "execution_count": 5,
   "metadata": {},
   "outputs": [
    {
     "name": "stdout",
     "output_type": "stream",
     "text": [
      "[[0.71350938 1.17557185]\n",
      " [0.33043383 1.515982  ]\n",
      " [0.06325604 0.48601209]\n",
      " [0.82226554 0.79220593]\n",
      " [0.74136398 0.05210542]]\n"
     ]
    }
   ],
   "source": [
    "X = np.random.random((5, 2))\n",
    "r = (X[::1,::2] ** 2 + X[::1,1::] ** 2) ** (0.5)\n",
    "phi = np.arctan(X[::1,1::] / X[::1,::2])\n",
    "polar = np.concatenate((r, phi), axis=1)\n",
    "print(polar)"
   ]
  },
  {
   "cell_type": "markdown",
   "metadata": {},
   "source": [
    "**2.5.** Найдите индексы максимального элемента в случайной матрице $10 \\times 10$.\n",
    "\n",
    "Cм. [np.argmax()](http://docs.scipy.org/doc/numpy/reference/generated/numpy.argmax.html)."
   ]
  },
  {
   "cell_type": "code",
   "execution_count": 6,
   "metadata": {},
   "outputs": [
    {
     "name": "stdout",
     "output_type": "stream",
     "text": [
      "0 2\n"
     ]
    }
   ],
   "source": [
    "X = np.random.random((10, 10))\n",
    "ans = np.argmax(X)\n",
    "print(ans // 10, ans % 10)"
   ]
  },
  {
   "cell_type": "markdown",
   "metadata": {},
   "source": [
    "**2.6.** Есть 10 точек ($X$) и ещё одна ($y$). Найти в $X$ ближайшую к $y$ точку."
   ]
  },
  {
   "cell_type": "code",
   "execution_count": 7,
   "metadata": {},
   "outputs": [
    {
     "name": "stdout",
     "output_type": "stream",
     "text": [
      "[0.75628567 0.41051669]\n"
     ]
    }
   ],
   "source": [
    "X = np.random.random((10, 2))\n",
    "y = np.random.random((1, 2))\n",
    "print(X[np.argmin(((X[:, 0] ** 2 - y[0][0]) ** 2 + (X[:, 1] - y[0][1]) ** 2) ** 0.5)])"
   ]
  },
  {
   "cell_type": "markdown",
   "metadata": {},
   "source": [
    "**2.7.** Дана функция:\n",
    "\n",
    "$$\n",
    " \\begin{cases}\n",
    "    x^2 + 2x + 6, & x < 0  \\\\\n",
    "    x + 6, & 0 \\le x \\le 2 \\\\\n",
    "    x^2 + 4x - 4, & x \\ge 2\n",
    " \\end{cases}\n",
    "$$\n",
    "\n",
    "Постройте массив из её значений на  $-3 \\le x \\le 3$."
   ]
  },
  {
   "cell_type": "code",
   "execution_count": 8,
   "metadata": {},
   "outputs": [
    {
     "name": "stdout",
     "output_type": "stream",
     "text": [
      "[9, 6, 5, 6, 7, 8, 17]\n"
     ]
    }
   ],
   "source": [
    "def function(x):\n",
    "    if x < 0:\n",
    "        return x ** 2 + 2 * x + 6\n",
    "    if 0 <= x < 2:\n",
    "        return x + 6\n",
    "    if x >= 2:\n",
    "        return x ** 2 + 4 * x - 4\n",
    "    \n",
    "    \n",
    "x = np.arange(-3, 4)\n",
    "print(list(map(function, x)))"
   ]
  },
  {
   "cell_type": "markdown",
   "metadata": {},
   "source": [
    "**2.8.** Из каждого элемента матрицы вычесть среднее арифметическое от всех элементов в соответствующей строке (после чего среднее значение каждой строки должно равняться нулю).\n",
    "\n",
    "Cм. [np.mean()](http://docs.scipy.org/doc/numpy/reference/generated/numpy.mean.html)."
   ]
  },
  {
   "cell_type": "code",
   "execution_count": 9,
   "metadata": {},
   "outputs": [
    {
     "name": "stdout",
     "output_type": "stream",
     "text": [
      "[[0.58061853 0.85168143 0.72643643 0.27304644 0.96348519 0.76035877\n",
      "  0.26179791 0.9692438  0.92740115 0.2263973 ]\n",
      " [0.65879424 0.50717332 0.57872795 0.0894775  0.48407574 0.97658562\n",
      "  0.16490079 0.42994322 0.57674413 0.99473134]\n",
      " [0.48779011 0.14190066 0.64699497 0.18625945 0.25351772 0.48344308\n",
      "  0.95887156 0.96526727 0.50857411 0.04757806]\n",
      " [0.00805844 0.00881515 0.94529991 0.13474056 0.68942243 0.64449738\n",
      "  0.617998   0.85314539 0.71151609 0.12899615]\n",
      " [0.68552807 0.31112518 0.22768514 0.05269062 0.71024402 0.42026335\n",
      "  0.94176533 0.47262979 0.52973757 0.3685298 ]\n",
      " [0.96022064 0.15990465 0.77659666 0.40024938 0.83038361 0.50016755\n",
      "  0.96020846 0.6451311  0.781758   0.46174479]\n",
      " [0.33125126 0.25230616 0.63621341 0.18673741 0.97550685 0.44564672\n",
      "  0.21723949 0.84555861 0.78010571 0.54942658]\n",
      " [0.33049539 0.83112061 0.4376097  0.85206491 0.96747029 0.92844226\n",
      "  0.35868387 0.41657865 0.94021613 0.19138387]\n",
      " [0.03122708 0.47063396 0.14874436 0.38978549 0.6747041  0.46696871\n",
      "  0.22421367 0.87289951 0.94904953 0.07498433]\n",
      " [0.50440669 0.05178913 0.34719722 0.53222051 0.67703043 0.85030667\n",
      "  0.90634259 0.41256099 0.55203917 0.49325504]]\n",
      "[-1.11022302e-17 -5.55111512e-17 -9.99200722e-17  0.00000000e+00\n",
      "  3.33066907e-17  5.55111512e-17 -1.11022302e-16  2.22044605e-17\n",
      " -4.44089210e-17  3.33066907e-17]\n"
     ]
    }
   ],
   "source": [
    "X = np.random.random((10, 10))\n",
    "ans = X - np.mean(X, axis=1, keepdims=True)\n",
    "print(X)\n",
    "print(np.mean(ans, axis=1))"
   ]
  },
  {
   "cell_type": "markdown",
   "metadata": {},
   "source": [
    "**2.9.** Есть массив из 1000 чисел, полученных из генератора случайных чисел, имеющий нормальное распределение. Посчитайте выборочное среднее и выборочную дисперсию. "
   ]
  },
  {
   "cell_type": "code",
   "execution_count": 10,
   "metadata": {},
   "outputs": [
    {
     "name": "stdout",
     "output_type": "stream",
     "text": [
      "4.924445336092377 3.9197077575878265\n"
     ]
    }
   ],
   "source": [
    "X = np.random.normal(loc=5, scale=2., size=1000)\n",
    "print(np.mean(X), np.var(X))"
   ]
  },
  {
   "cell_type": "markdown",
   "metadata": {},
   "source": [
    "**2.10.** Создать матрицу (NB. БЕЗ ЦИКЛОВ И ИЗМЕНЕНИЯ ОТДЕЛЬНЫХ ЭЛЕМЕНТОВ):\n",
    "\n",
    "$$\n",
    "\\begin{pmatrix}\n",
    "0 & 1 & 2 & 3 & 4 \\\\\n",
    "1 & 2 & 3 & 4 & 0 \\\\\n",
    "2 & 3 & 4 & 0 & 1 \\\\\n",
    "3 & 4 & 0 & 1 & 2 \\\\\n",
    "4 & 0 & 1 & 2 & 3\n",
    "\\end{pmatrix}\n",
    "$$"
   ]
  },
  {
   "cell_type": "code",
   "execution_count": 11,
   "metadata": {},
   "outputs": [
    {
     "name": "stdout",
     "output_type": "stream",
     "text": [
      "[[0 1 2 3 4]\n",
      " [1 2 3 4 0]\n",
      " [2 3 4 0 1]\n",
      " [3 4 0 1 2]\n",
      " [4 0 1 2 3]]\n"
     ]
    }
   ],
   "source": [
    "row = np.arange(5)\n",
    "col = row.reshape(5,1)\n",
    "matrix = row + col\n",
    "matrix %= 5\n",
    "print(matrix)"
   ]
  },
  {
   "cell_type": "markdown",
   "metadata": {},
   "source": [
    "**2.11.** Есть следующий алгоритм семплинирования, на вход функции подается вектор из целых положительных чисел и число семплов."
   ]
  },
  {
   "cell_type": "code",
   "execution_count": 12,
   "metadata": {},
   "outputs": [
    {
     "data": {
      "text/plain": [
       "[0, 0, 0, 4, 0]"
      ]
     },
     "execution_count": 12,
     "metadata": {},
     "output_type": "execute_result"
    }
   ],
   "source": [
    "def sample(x, c):\n",
    "    assert len(x) > 0\n",
    "    \n",
    "    s = np.sum(x)\n",
    "    res = []\n",
    "    for _ in range(c):\n",
    "        val = s * np.random.random()\n",
    "        cur, idx = 0, 0        \n",
    "        while cur + x[idx] <= val:\n",
    "            cur += x[idx]\n",
    "            idx += 1\n",
    "            \n",
    "        res.append(idx)\n",
    "    return res\n",
    "\n",
    "            \n",
    "sample([50, 3, 1, 7, 20], 5)    "
   ]
  },
  {
   "cell_type": "markdown",
   "metadata": {},
   "source": [
    "Реализуйте данный алгоритм более оптимальным способом, без использования циклов."
   ]
  },
  {
   "cell_type": "code",
   "execution_count": 13,
   "metadata": {},
   "outputs": [
    {
     "data": {
      "text/plain": [
       "array([4, 4, 4, 0, 0], dtype=int64)"
      ]
     },
     "execution_count": 13,
     "metadata": {},
     "output_type": "execute_result"
    }
   ],
   "source": [
    "def sample(x, c):\n",
    "    assert len(x) > 0\n",
    "    \n",
    "    s = np.sum(x)\n",
    "    val = s * np.random.random(c)\n",
    "    ans = np.argmin((np.cumsum(x) <= val.reshape(-1,1)), axis=1)\n",
    "    return ans\n",
    "\n",
    "sample([50, 3, 1, 7, 20], 5)"
   ]
  },
  {
   "cell_type": "code",
   "execution_count": null,
   "metadata": {},
   "outputs": [],
   "source": []
  }
 ],
 "metadata": {
  "kernelspec": {
   "display_name": "Python 3",
   "language": "python",
   "name": "python3"
  },
  "language_info": {
   "codemirror_mode": {
    "name": "ipython",
    "version": 3
   },
   "file_extension": ".py",
   "mimetype": "text/x-python",
   "name": "python",
   "nbconvert_exporter": "python",
   "pygments_lexer": "ipython3",
   "version": "3.8.5"
  },
  "vscode": {
   "interpreter": {
    "hash": "916dbcbb3f70747c44a77c7bcd40155683ae19c65e1c03b4aa3499c5328201f1"
   }
  }
 },
 "nbformat": 4,
 "nbformat_minor": 4
}
